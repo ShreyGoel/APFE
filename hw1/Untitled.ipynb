{
 "cells": [
  {
   "cell_type": "code",
   "execution_count": 1,
   "metadata": {},
   "outputs": [],
   "source": [
    "from q2 import GetCov, GetPrices\n",
    "import numpy as np\n",
    "import copy\n",
    "\n",
    "prices = GetPrices()\n",
    "\n",
    "matrix = GetCov(prices)\n",
    "\n",
    "# input tolerance\n",
    "tol = 0.01\n",
    "\n",
    "refMatrix = copy.deepcopy(matrix)"
   ]
  },
  {
   "cell_type": "code",
   "execution_count": 21,
   "metadata": {},
   "outputs": [
    {
     "name": "stdout",
     "output_type": "stream",
     "text": [
      "0.001912059380204943\n",
      "0.00013933449868279524\n",
      "8.852108945423446e-07\n",
      "3.578047063685079e-11\n",
      "eigenValue 3 1.6338039746252805e-09\n",
      "4.218411368994604e-17\n",
      "7.6546581200685275e-31\n",
      "6.82201938388943e-58\n",
      "5.624129098923118e-112\n",
      "eigenValue 3 6.796596903392508e-109\n"
     ]
    }
   ],
   "source": [
    "def GetEigens(matrix, tol):\n",
    "    matrixShape = matrix.shape[0]\n",
    "    eigenValues = []\n",
    "    eigenVectors = []\n",
    "    \n",
    "    # repeat until eigenvalue to biggest eigenvalue ratio goes below tolerance\n",
    "    for i in range(matrixShape):\n",
    "        eigenVectorRandom = np.random.normal(size=(matrixShape))\n",
    "        eigenVectorRandom = eigenVectorRandom/np.linalg.norm(eigenVectorRandom)\n",
    "        \n",
    "        # used for loop so that loop terminates in 100 iterations for sure\n",
    "        for k in range(10):\n",
    "            \n",
    "            if k==0:\n",
    "                prevEigenVector = copy.deepcopy(eigenVectorRandom)\n",
    "            else:\n",
    "                prevEigenVector = copy.deepcopy(eigenVector)\n",
    "                matrix = np.matmul(matrix, matrix)\n",
    "\n",
    "            eigenVector = np.matmul(matrix, eigenVectorRandom)\n",
    "            print(np.linalg.norm(eigenVector))\n",
    "            \n",
    "            if np.linalg.norm(eigenVector)==0:\n",
    "                print(matrix)\n",
    "                \n",
    "            eigenVector = eigenVector/np.linalg.norm(eigenVector)\n",
    "            \n",
    "            eigenValue = np.matmul(np.matmul(eigenVector.T, matrix), eigenVector)\n",
    "            \n",
    "            # break if norm of change in eigenVectors is below threshold\n",
    "            if np.linalg.norm(eigenVector - prevEigenVector) <= 0.01:\n",
    "                print('eigenValue', k, eigenValue)\n",
    "                break\n",
    "        \n",
    "        eigenValues.append(eigenValue)\n",
    "        eigenVectors.append(eigenVector)\n",
    "        \n",
    "        if eigenValue/eigenValues[0] > tol:\n",
    "            x = np.outer(eigenVector, eigenVector)\n",
    "            matrix = matrix - eigenValue * x\n",
    "        else:\n",
    "            break\n",
    "    \n",
    "    return eigenValues, eigenVectors\n",
    "\n",
    "eigenValues, eigenVectors = GetEigens(matrix, tol)\n",
    "F, V = np.linalg.eigh(refMatrix)"
   ]
  },
  {
   "cell_type": "code",
   "execution_count": null,
   "metadata": {},
   "outputs": [],
   "source": []
  },
  {
   "cell_type": "code",
   "execution_count": null,
   "metadata": {},
   "outputs": [],
   "source": []
  }
 ],
 "metadata": {
  "kernelspec": {
   "display_name": "Python 3",
   "language": "python",
   "name": "python3"
  },
  "language_info": {
   "codemirror_mode": {
    "name": "ipython",
    "version": 3
   },
   "file_extension": ".py",
   "mimetype": "text/x-python",
   "name": "python",
   "nbconvert_exporter": "python",
   "pygments_lexer": "ipython3",
   "version": "3.6.6"
  }
 },
 "nbformat": 4,
 "nbformat_minor": 2
}
